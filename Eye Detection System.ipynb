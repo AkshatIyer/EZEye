{
 "cells": [
  {
   "cell_type": "markdown",
   "id": "52d5ad4a",
   "metadata": {},
   "source": [
    "# Training data"
   ]
  },
  {
   "cell_type": "code",
   "execution_count": 1,
   "id": "830bd058",
   "metadata": {},
   "outputs": [],
   "source": [
    "import cv2\n",
    "import numpy as np\n",
    "import os\n",
    "# Path to the directory containing the training images\n",
    "path=r\"C:\\Users\\USER\\Downloads\\train\\train_closed\"\n",
    "#Define the size of the input images\n",
    "img_size = 50\n",
    "#create an empty list to store the training data\n",
    "train_data = []\n",
    "# Loop over the images in tthe traing directory\n",
    "for img_name in os.listdir(path):\n",
    "    if img_name.endswith(\".png\"):\n",
    "        img_path = os.path.join(path, img_name)\n",
    "        #load the image and convert it into grayscale\n",
    "        img=cv2.imread(img_path,cv2.IMREAD_GRAYSCALE)\n",
    "        #Resize the images to the desired size\n",
    "        img = cv2.resize(img,(img_size,img_size))\n",
    "        #Normalize the pixel values to be between 0 and 1\n",
    "        img=img.astype('float32') / 255.0\n",
    "        # Add the image to the training data list\n",
    "        train_data.append(img)\n",
    "# convert the training data list to a numpy array\n",
    "train_data=np.array(train_data)\n",
    "#Reshape the training data array to have a channel dimension\n",
    "train_data=np.reshape(train_data,(train_data.shape[0],img_size,img_size,1))\n",
    "#Save the training data array to a file\n",
    "np.save('train_data.npy',train_data)"
   ]
  },
  {
   "cell_type": "markdown",
   "id": "dce8a787",
   "metadata": {},
   "source": [
    "# Testing Data"
   ]
  },
  {
   "cell_type": "code",
   "execution_count": 2,
   "id": "8e3364be",
   "metadata": {},
   "outputs": [],
   "source": [
    "import cv2\n",
    "import numpy as np\n",
    "import os\n",
    "# Path to the directory containing the testing images\n",
    "path=r\"C:\\Users\\USER\\Downloads\\train\\test_closed\"\n",
    "#Define the size of the input images\n",
    "img_size = 50\n",
    "#create an empty list to store the testing data\n",
    "test_data = []\n",
    "# Loop over the images in tthe testing directory\n",
    "for img_name in os.listdir(path):\n",
    "    if img_name.endswith(\".png\"):\n",
    "        img_path = os.path.join(path, img_name)\n",
    "        #load the image and convert it into grayscale\n",
    "        img=cv2.imread(img_path,cv2.IMREAD_GRAYSCALE)\n",
    "        #Resize the images to the desired size\n",
    "        img = cv2.resize(img,(img_size,img_size))\n",
    "        #Normalize the pixel values to be between 0 and 1\n",
    "        img=img.astype('float32') / 255.0\n",
    "        # Add the image to the testing data list\n",
    "        test_data.append(img)\n",
    "# convert the testing data list to a numpy array\n",
    "test_data=np.array(test_data)\n",
    "#Reshape the testing data array to have a channel dimension\n",
    "test_data=np.reshape(test_data,(test_data.shape[0],img_size,img_size,1))\n",
    "#Save the testing data array to a file\n",
    "np.save('test_data.npy',test_data)"
   ]
  },
  {
   "cell_type": "markdown",
   "id": "705db53e",
   "metadata": {},
   "source": [
    "# Training data labels"
   ]
  },
  {
   "cell_type": "code",
   "execution_count": 3,
   "id": "d232c1ba",
   "metadata": {},
   "outputs": [],
   "source": [
    "import numpy as np\n",
    "# defibe the number of training images \n",
    "num_train_images=300\n",
    "#define the labels for the training images \n",
    "\n",
    "train_labels=np.concatenate((np.ones(num_train_images//2),np.zeros(num_train_images//2)))\n",
    "# save the training labels array to a file\n",
    "np.save('train_labels.npy',train_labels)"
   ]
  },
  {
   "cell_type": "markdown",
   "id": "f65f4c00",
   "metadata": {},
   "source": [
    "# Testing data labels"
   ]
  },
  {
   "cell_type": "code",
   "execution_count": 4,
   "id": "dbffe7c9",
   "metadata": {},
   "outputs": [],
   "source": [
    "import numpy as np\n",
    "# defibe the number of training images \n",
    "num_test_images=1700\n",
    "#define the labels for the training images \n",
    "\n",
    "test_labels=np.concatenate((np.ones(num_test_images//2),np.zeros(num_test_images//2)))\n",
    "# save the training labels array to a file\n",
    "np.save('test_labels.npy',test_labels)"
   ]
  },
  {
   "cell_type": "markdown",
   "id": "90375c2c",
   "metadata": {},
   "source": [
    "# Model"
   ]
  },
  {
   "cell_type": "code",
   "execution_count": 5,
   "id": "fc65b8dc",
   "metadata": {},
   "outputs": [
    {
     "name": "stderr",
     "output_type": "stream",
     "text": [
      "C:\\Users\\USER\\anaconda3\\lib\\site-packages\\keras\\optimizers\\optimizer_v2\\adam.py:117: UserWarning: The `lr` argument is deprecated, use `learning_rate` instead.\n",
      "  super().__init__(name, **kwargs)\n"
     ]
    },
    {
     "ename": "ValueError",
     "evalue": "Data cardinality is ambiguous:\n  x sizes: 0\n  y sizes: 300\nMake sure all arrays contain the same number of samples.",
     "output_type": "error",
     "traceback": [
      "\u001b[1;31m---------------------------------------------------------------------------\u001b[0m",
      "\u001b[1;31mValueError\u001b[0m                                Traceback (most recent call last)",
      "Input \u001b[1;32mIn [5]\u001b[0m, in \u001b[0;36m<cell line: 29>\u001b[1;34m()\u001b[0m\n\u001b[0;32m     26\u001b[0m model\u001b[38;5;241m.\u001b[39mcompile(optimizer\u001b[38;5;241m=\u001b[39mAdam(lr\u001b[38;5;241m=\u001b[39m\u001b[38;5;241m0.001\u001b[39m), loss\u001b[38;5;241m=\u001b[39m\u001b[38;5;124m'\u001b[39m\u001b[38;5;124mbinary_crossentropy\u001b[39m\u001b[38;5;124m'\u001b[39m, metrics\u001b[38;5;241m=\u001b[39m[\u001b[38;5;124m'\u001b[39m\u001b[38;5;124maccuracy\u001b[39m\u001b[38;5;124m'\u001b[39m])\n\u001b[0;32m     28\u001b[0m \u001b[38;5;66;03m# Train the model\u001b[39;00m\n\u001b[1;32m---> 29\u001b[0m \u001b[43mmodel\u001b[49m\u001b[38;5;241;43m.\u001b[39;49m\u001b[43mfit\u001b[49m\u001b[43m(\u001b[49m\u001b[43mtrain_data\u001b[49m\u001b[43m,\u001b[49m\u001b[43m \u001b[49m\u001b[43mtrain_labels\u001b[49m\u001b[43m,\u001b[49m\u001b[43m \u001b[49m\u001b[43mepochs\u001b[49m\u001b[38;5;241;43m=\u001b[39;49m\u001b[38;5;241;43m10\u001b[39;49m\u001b[43m,\u001b[49m\u001b[43m \u001b[49m\u001b[43mbatch_size\u001b[49m\u001b[38;5;241;43m=\u001b[39;49m\u001b[38;5;241;43m32\u001b[39;49m\u001b[43m)\u001b[49m\n\u001b[0;32m     31\u001b[0m \u001b[38;5;66;03m# Evaluate the model on the test data\u001b[39;00m\n\u001b[0;32m     32\u001b[0m loss, accuracy \u001b[38;5;241m=\u001b[39m model\u001b[38;5;241m.\u001b[39mevaluate(test_data, test_labels)\n",
      "File \u001b[1;32m~\\anaconda3\\lib\\site-packages\\keras\\utils\\traceback_utils.py:70\u001b[0m, in \u001b[0;36mfilter_traceback.<locals>.error_handler\u001b[1;34m(*args, **kwargs)\u001b[0m\n\u001b[0;32m     67\u001b[0m     filtered_tb \u001b[38;5;241m=\u001b[39m _process_traceback_frames(e\u001b[38;5;241m.\u001b[39m__traceback__)\n\u001b[0;32m     68\u001b[0m     \u001b[38;5;66;03m# To get the full stack trace, call:\u001b[39;00m\n\u001b[0;32m     69\u001b[0m     \u001b[38;5;66;03m# `tf.debugging.disable_traceback_filtering()`\u001b[39;00m\n\u001b[1;32m---> 70\u001b[0m     \u001b[38;5;28;01mraise\u001b[39;00m e\u001b[38;5;241m.\u001b[39mwith_traceback(filtered_tb) \u001b[38;5;28;01mfrom\u001b[39;00m \u001b[38;5;28mNone\u001b[39m\n\u001b[0;32m     71\u001b[0m \u001b[38;5;28;01mfinally\u001b[39;00m:\n\u001b[0;32m     72\u001b[0m     \u001b[38;5;28;01mdel\u001b[39;00m filtered_tb\n",
      "File \u001b[1;32m~\\anaconda3\\lib\\site-packages\\keras\\engine\\data_adapter.py:1848\u001b[0m, in \u001b[0;36m_check_data_cardinality\u001b[1;34m(data)\u001b[0m\n\u001b[0;32m   1841\u001b[0m     msg \u001b[38;5;241m+\u001b[39m\u001b[38;5;241m=\u001b[39m \u001b[38;5;124m\"\u001b[39m\u001b[38;5;124m  \u001b[39m\u001b[38;5;132;01m{}\u001b[39;00m\u001b[38;5;124m sizes: \u001b[39m\u001b[38;5;132;01m{}\u001b[39;00m\u001b[38;5;130;01m\\n\u001b[39;00m\u001b[38;5;124m\"\u001b[39m\u001b[38;5;241m.\u001b[39mformat(\n\u001b[0;32m   1842\u001b[0m         label,\n\u001b[0;32m   1843\u001b[0m         \u001b[38;5;124m\"\u001b[39m\u001b[38;5;124m, \u001b[39m\u001b[38;5;124m\"\u001b[39m\u001b[38;5;241m.\u001b[39mjoin(\n\u001b[0;32m   1844\u001b[0m             \u001b[38;5;28mstr\u001b[39m(i\u001b[38;5;241m.\u001b[39mshape[\u001b[38;5;241m0\u001b[39m]) \u001b[38;5;28;01mfor\u001b[39;00m i \u001b[38;5;129;01min\u001b[39;00m tf\u001b[38;5;241m.\u001b[39mnest\u001b[38;5;241m.\u001b[39mflatten(single_data)\n\u001b[0;32m   1845\u001b[0m         ),\n\u001b[0;32m   1846\u001b[0m     )\n\u001b[0;32m   1847\u001b[0m msg \u001b[38;5;241m+\u001b[39m\u001b[38;5;241m=\u001b[39m \u001b[38;5;124m\"\u001b[39m\u001b[38;5;124mMake sure all arrays contain the same number of samples.\u001b[39m\u001b[38;5;124m\"\u001b[39m\n\u001b[1;32m-> 1848\u001b[0m \u001b[38;5;28;01mraise\u001b[39;00m \u001b[38;5;167;01mValueError\u001b[39;00m(msg)\n",
      "\u001b[1;31mValueError\u001b[0m: Data cardinality is ambiguous:\n  x sizes: 0\n  y sizes: 300\nMake sure all arrays contain the same number of samples."
     ]
    }
   ],
   "source": [
    "# Import necessary libraries\n",
    "import numpy as np\n",
    "from keras.models import Sequential\n",
    "from keras.layers import Conv2D, MaxPooling2D, Flatten, Dense\n",
    "from keras.optimizers import Adam\n",
    "\n",
    "# Load the data\n",
    "train_data = np.load('train_data.npy')\n",
    "train_labels = np.load('train_labels.npy')\n",
    "test_data = np.load('test_data.npy')\n",
    "test_labels = np.load('test_labels.npy')\n",
    "\n",
    "# Define the model architecture\n",
    "model = Sequential()\n",
    "model.add(Conv2D(32, (3, 3), activation='relu', input_shape=(50, 50, 1)))\n",
    "model.add(MaxPooling2D((2, 2)))\n",
    "model.add(Conv2D(64, (3, 3), activation='relu'))\n",
    "model.add(MaxPooling2D((2, 2)))\n",
    "model.add(Conv2D(128, (3, 3), activation='relu'))\n",
    "model.add(MaxPooling2D((2, 2)))\n",
    "model.add(Flatten())\n",
    "model.add(Dense(64, activation='relu'))\n",
    "model.add(Dense(1, activation='sigmoid'))\n",
    "\n",
    "# Compile the model\n",
    "model.compile(optimizer=Adam(lr=0.001), loss='binary_crossentropy', metrics=['accuracy'])\n",
    "\n",
    "# Train the model\n",
    "model.fit(train_data, train_labels, epochs=10, batch_size=32)\n",
    "\n",
    "# Evaluate the model on the test data\n",
    "loss, accuracy = model.evaluate(test_data, test_labels)\n",
    "print(f'Test accuracy: {accuracy}')\n",
    "\n",
    "# Save the model to a file\n",
    "model.save('eye_model.h5')\n"
   ]
  },
  {
   "cell_type": "markdown",
   "id": "01fff32b",
   "metadata": {},
   "source": [
    "# Model testing"
   ]
  },
  {
   "cell_type": "code",
   "execution_count": null,
   "id": "93d4f2a0",
   "metadata": {},
   "outputs": [],
   "source": [
    "import cv2\n",
    "import numpy as np\n",
    "import keras\n",
    "\n",
    "# Load the model\n",
    "model = keras.models.load_model('eye_model.h5')\n",
    "\n",
    "# Load the image\n",
    "img = cv2.imread(r'C:\\Users\\USER\\Downloads\\OACE\\open\\10007.jpg', cv2.IMREAD_GRAYSCALE)\n",
    "img = cv2.resize(img, (50, 50))\n",
    "img = np.expand_dims(img, axis=-1)\n",
    "img = np.expand_dims(img, axis=0)\n",
    "\n",
    "# Make a prediction\n",
    "pred = model.predict(img)\n",
    "\n",
    "# Print the result\n",
    "if pred > 0.5:\n",
    "    print('The eye is open')\n",
    "else:\n",
    "    print('The eye is closed')\n"
   ]
  }
 ],
 "metadata": {
  "kernelspec": {
   "display_name": "Python 3 (ipykernel)",
   "language": "python",
   "name": "python3"
  },
  "language_info": {
   "codemirror_mode": {
    "name": "ipython",
    "version": 3
   },
   "file_extension": ".py",
   "mimetype": "text/x-python",
   "name": "python",
   "nbconvert_exporter": "python",
   "pygments_lexer": "ipython3",
   "version": "3.9.12"
  }
 },
 "nbformat": 4,
 "nbformat_minor": 5
}
